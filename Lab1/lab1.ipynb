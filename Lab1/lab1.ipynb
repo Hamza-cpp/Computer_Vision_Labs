{
 "cells": [
  {
   "cell_type": "code",
   "execution_count": 10,
   "metadata": {},
   "outputs": [
    {
     "name": "stdout",
     "output_type": "stream",
     "text": [
      "Downloading from https://www.kaggle.com/api/v1/datasets/download/danielwe14/stereocamera-chessboard-pictures?dataset_version_number=3...\n"
     ]
    },
    {
     "name": "stderr",
     "output_type": "stream",
     "text": [
      "100%|██████████| 14.8M/14.8M [00:10<00:00, 1.54MB/s]"
     ]
    },
    {
     "name": "stdout",
     "output_type": "stream",
     "text": [
      "Extracting files...\n"
     ]
    },
    {
     "name": "stderr",
     "output_type": "stream",
     "text": [
      "\n"
     ]
    },
    {
     "name": "stdout",
     "output_type": "stream",
     "text": [
      "Path to dataset files: f:\\Hamza_OK\\Computer_Vision_labs\\Lab1\\dataset\n"
     ]
    }
   ],
   "source": [
    "import kagglehub\n",
    "import os\n",
    "import shutil\n",
    "\n",
    "# Download the dataset to the default location\n",
    "path = kagglehub.dataset_download(\"danielwe14/stereocamera-chessboard-pictures\", force_download=True)\n",
    "\n",
    "# Get the current working directory\n",
    "current_path = os.getcwd()\n",
    "\n",
    "# Define the destination path\n",
    "destination_path = os.path.join(current_path, \"dataset\")\n",
    "\n",
    "# Check if the destination path exists and has content\n",
    "if os.path.exists(destination_path) and os.listdir(destination_path):\n",
    "    # Remove the existing directory and its contents\n",
    "    shutil.rmtree(destination_path)\n",
    "\n",
    "# Move the downloaded dataset to the current directory\n",
    "shutil.move(path, destination_path)\n",
    "\n",
    "print(\"Path to dataset files:\", destination_path)"
   ]
  },
  {
   "cell_type": "code",
   "execution_count": null,
   "metadata": {},
   "outputs": [],
   "source": []
  }
 ],
 "metadata": {
  "kernelspec": {
   "display_name": ".venv",
   "language": "python",
   "name": "python3"
  },
  "language_info": {
   "codemirror_mode": {
    "name": "ipython",
    "version": 3
   },
   "file_extension": ".py",
   "mimetype": "text/x-python",
   "name": "python",
   "nbconvert_exporter": "python",
   "pygments_lexer": "ipython3",
   "version": "3.10.4"
  }
 },
 "nbformat": 4,
 "nbformat_minor": 2
}
