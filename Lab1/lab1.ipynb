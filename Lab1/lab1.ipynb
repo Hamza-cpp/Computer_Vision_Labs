{
 "cells": [
  {
   "cell_type": "markdown",
   "metadata": {},
   "source": [
    "# Lab1 - Camera Calibration\n",
    "\n",
    "## Objectives of this Lab\n",
    "\n",
    "1. Understand the basic principles of **camera calibration**.\n",
    "2. Use images of a grid or checkerboard to calibrate a camera.\n",
    "3. Correct **radial and tangential distortion errors**.\n",
    "4. Visualize the effect of calibration on images.\n",
    "\n",
    "## Lab Statement\n",
    "\n",
    "### 1. Introduction to Camera Calibration\n",
    "\n",
    "**Camera calibration** is the process of finding the true parameters of the camera that took your photographs.\n",
    "\n",
    "The calibration algorithm calculates the camera matrix using the **extrinsic** and **intrinsic** parameters. The extrinsic parameters represent a rigid transformation from 3-D world coordinate system to the 3-D camera’s coordinate system. The intrinsic parameters represent a projective transformation from the 3-D camera’s coordinates into the 2-D image coordinates.\n",
    "\n",
    "![calibration params](../assets/calibration_params.png)\n",
    "\n",
    "#### a. What are the **intrinsic parameters** of a camera?\n",
    "\n",
    "Intrinsic parameters define the internal characteristics of a camera that impact image capture. These include:\n",
    "\n",
    "- **Focal Length (f):** Determines the distance from the lens to the image sensor and affects the scale of the captured image.\n",
    "- **Principal Point or optical center (cx, cy):** The point on the image sensor where the optical axis intersects, usually near the image center.\n",
    "- **Skew Coefficient:** Accounts for any non-orthogonality between the x and y axes of the image sensor, though often assumed to be zero in modern cameras.\n",
    "- **Lens Distortion Coefficients:** Describe how the lens distorts straight lines in the image, affecting the geometric accuracy.\n",
    "\n",
    "#### b. What are the **extrinsic parameters** of a camera?\n",
    "\n",
    "Extrinsic parameters define the camera's position and orientation in the 3D world relative to a coordinate system. These include:\n",
    "\n",
    "- **Translation Vector (T):** Indicates the camera's position in 3D space.\n",
    "- **Rotation Matrix (R):** Represents the orientation of the camera relative to world coordinates, defining rotation around the x, y, and z axes.\n",
    "\n",
    "#### c. What are the main distortions that affect a camera (radial, tangential)?\n",
    "\n",
    "The main distortions that impact camera images include:\n",
    "\n",
    "- **Radial Distortion:** Occurs when light rays passing through the lens bend differently based on their distance from the optical center, causing straight lines to appear curved in the image. Common types include:\n",
    "  - **Barrel Distortion:** Lines bow outward.\n",
    "  - **Pincushion Distortion:** Lines bow inward.\n",
    "\n",
    "![radial distortion](../assets/radial_distortion.png)\n",
    "\n",
    "- **Tangential Distortion:** Happens when the lens is misaligned with the image sensor, displacing the image in a tangential direction and creating a skewed perspective.\n",
    "  ![tangentiel distortion](../assets/tangentiel_ditrotion.png)\n",
    "\n",
    "### 2. Loading and Preparing Images\n",
    "for the images dataset i use [`the Chessboard Pictures for Stereocamera Calibration`](https://www.kaggle.com/datasets/danielwe14/stereocamera-chessboard-pictures).\n",
    "\n",
    "#### About Dataset\n",
    "Within this Dataset you find **40 pictures** of the same checkerboard pattern, produced with two equal cameras. (so you have 20 pictures per camera). The Data is divided into two folders **leftcamera** for the left camera and **rightcamera** for the right one. The images are numbered. Image 1 of the left camera (`Im_L_1.png`) therefore belongs to image 1 of the right camera (`Im_R_1.png`). They show the same scenario from different points of view.\n",
    "\n",
    "To get started you have to know a fiew things about the given data. The square size of the checkerboard is ``30mm``. The board size is ``11x7`` (counted by the corners of the squares).\n",
    "\n",
    "below we used to download and extarcte the dataset content to the ``dataset`` dir using the new kagglehub library.\n",
    "\n",
    "![exmaple image](../assets/Im_L_1.png)"
   ]
  },
  {
   "cell_type": "code",
   "execution_count": 10,
   "metadata": {},
   "outputs": [
    {
     "name": "stdout",
     "output_type": "stream",
     "text": [
      "Downloading from https://www.kaggle.com/api/v1/datasets/download/danielwe14/stereocamera-chessboard-pictures?dataset_version_number=3...\n"
     ]
    },
    {
     "name": "stderr",
     "output_type": "stream",
     "text": [
      "100%|██████████| 14.8M/14.8M [00:10<00:00, 1.54MB/s]"
     ]
    },
    {
     "name": "stdout",
     "output_type": "stream",
     "text": [
      "Extracting files...\n"
     ]
    },
    {
     "name": "stderr",
     "output_type": "stream",
     "text": [
      "\n"
     ]
    },
    {
     "name": "stdout",
     "output_type": "stream",
     "text": [
      "Path to dataset files: f:\\Hamza_OK\\Computer_Vision_labs\\Lab1\\dataset\n"
     ]
    }
   ],
   "source": [
    "import kagglehub\n",
    "import os\n",
    "import shutil\n",
    "\n",
    "# Download the dataset to the default location\n",
    "path = kagglehub.dataset_download(\"danielwe14/stereocamera-chessboard-pictures\", force_download=True)\n",
    "\n",
    "current_path = os.getcwd()\n",
    "\n",
    "# Define the destination path\n",
    "destination_path = os.path.join(current_path, \"dataset\")\n",
    "\n",
    "# Check if the destination path exists and has content\n",
    "if os.path.exists(destination_path) and os.listdir(destination_path):\n",
    "    # Remove the existing directory and its contents\n",
    "    shutil.rmtree(destination_path)\n",
    "\n",
    "shutil.move(path, destination_path)\n",
    "\n",
    "print(\"Path to dataset files:\", destination_path)"
   ]
  }
 ],
 "metadata": {
  "kernelspec": {
   "display_name": ".venv",
   "language": "python",
   "name": "python3"
  },
  "language_info": {
   "codemirror_mode": {
    "name": "ipython",
    "version": 3
   },
   "file_extension": ".py",
   "mimetype": "text/x-python",
   "name": "python",
   "nbconvert_exporter": "python",
   "pygments_lexer": "ipython3",
   "version": "3.10.4"
  }
 },
 "nbformat": 4,
 "nbformat_minor": 2
}
